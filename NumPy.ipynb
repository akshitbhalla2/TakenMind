{
 "cells": [
  {
   "cell_type": "code",
   "execution_count": 1,
   "metadata": {},
   "outputs": [],
   "source": [
    "import numpy as np"
   ]
  },
  {
   "cell_type": "code",
   "execution_count": 2,
   "metadata": {},
   "outputs": [
    {
     "name": "stdout",
     "output_type": "stream",
     "text": [
      "[[1 2 3 4]\n",
      " [5 6 7 8]]\n"
     ]
    }
   ],
   "source": [
    "my_list1 = [1,2,3,4]\n",
    "my_list2 = [5,6,7,8]\n",
    "my_array = np.array([my_list1, my_list2])\n",
    "print(my_array)"
   ]
  },
  {
   "cell_type": "code",
   "execution_count": 3,
   "metadata": {},
   "outputs": [
    {
     "name": "stdout",
     "output_type": "stream",
     "text": [
      "(2, 4)\n",
      "int32\n",
      "<class 'numpy.ndarray'>\n"
     ]
    }
   ],
   "source": [
    "print(my_array.shape)\n",
    "print(my_array.dtype)\n",
    "print(type(my_array))"
   ]
  },
  {
   "cell_type": "code",
   "execution_count": 4,
   "metadata": {},
   "outputs": [
    {
     "name": "stdout",
     "output_type": "stream",
     "text": [
      "[0. 0. 0. 0. 0.]\n"
     ]
    }
   ],
   "source": [
    "my_array_zeros = np.zeros(5)\n",
    "print(my_array_zeros)"
   ]
  },
  {
   "cell_type": "code",
   "execution_count": 5,
   "metadata": {},
   "outputs": [
    {
     "name": "stdout",
     "output_type": "stream",
     "text": [
      "[[1. 1. 1. 1. 1.]\n",
      " [1. 1. 1. 1. 1.]\n",
      " [1. 1. 1. 1. 1.]\n",
      " [1. 1. 1. 1. 1.]\n",
      " [1. 1. 1. 1. 1.]]\n"
     ]
    }
   ],
   "source": [
    "my_array_ones = np.ones([5,5])\n",
    "print(my_array_ones)"
   ]
  },
  {
   "cell_type": "code",
   "execution_count": 6,
   "metadata": {},
   "outputs": [
    {
     "name": "stdout",
     "output_type": "stream",
     "text": [
      "[0. 0. 0. 0. 0.]\n"
     ]
    }
   ],
   "source": [
    "my_array_empty = np.empty(5) \n",
    "print(my_array_empty)"
   ]
  },
  {
   "cell_type": "code",
   "execution_count": 7,
   "metadata": {},
   "outputs": [
    {
     "name": "stdout",
     "output_type": "stream",
     "text": [
      "[[1. 0. 0. 0. 0.]\n",
      " [0. 1. 0. 0. 0.]\n",
      " [0. 0. 1. 0. 0.]\n",
      " [0. 0. 0. 1. 0.]\n",
      " [0. 0. 0. 0. 1.]]\n"
     ]
    }
   ],
   "source": [
    "my_array_identity = np.eye(5)\n",
    "print(my_array_identity)"
   ]
  },
  {
   "cell_type": "code",
   "execution_count": 8,
   "metadata": {},
   "outputs": [
    {
     "name": "stdout",
     "output_type": "stream",
     "text": [
      "[10 13 16 19 22 25 28 31 34 37 40 43 46 49 52 55 58 61 64 67 70 73 76 79\n",
      " 82 85 88 91 94 97]\n"
     ]
    }
   ],
   "source": [
    "my_array_arange = np.arange(10,100,3)\n",
    "print(my_array_arange)"
   ]
  },
  {
   "cell_type": "code",
   "execution_count": 9,
   "metadata": {},
   "outputs": [
    {
     "name": "stdout",
     "output_type": "stream",
     "text": [
      "[[ 2  4  6  8]\n",
      " [10 12 14 16]]\n"
     ]
    }
   ],
   "source": [
    "my_array_add = my_array + my_array\n",
    "print(my_array_add)"
   ]
  },
  {
   "cell_type": "code",
   "execution_count": 10,
   "metadata": {},
   "outputs": [
    {
     "name": "stdout",
     "output_type": "stream",
     "text": [
      "[[0 0 0 0]\n",
      " [0 0 0 0]]\n"
     ]
    }
   ],
   "source": [
    "my_array_subtract = my_array - my_array\n",
    "print(my_array_subtract)"
   ]
  },
  {
   "cell_type": "code",
   "execution_count": 11,
   "metadata": {},
   "outputs": [
    {
     "name": "stdout",
     "output_type": "stream",
     "text": [
      "[[ 1  4  9 16]\n",
      " [25 36 49 64]]\n"
     ]
    }
   ],
   "source": [
    "my_array_multiply = my_array*my_array\n",
    "print(my_array_multiply)"
   ]
  },
  {
   "cell_type": "code",
   "execution_count": 12,
   "metadata": {},
   "outputs": [
    {
     "name": "stdout",
     "output_type": "stream",
     "text": [
      "[[1. 1. 1. 1.]\n",
      " [1. 1. 1. 1.]]\n"
     ]
    }
   ],
   "source": [
    "my_array_divide = my_array/my_array\n",
    "print(my_array_divide)"
   ]
  },
  {
   "cell_type": "code",
   "execution_count": 13,
   "metadata": {},
   "outputs": [
    {
     "name": "stdout",
     "output_type": "stream",
     "text": [
      "[[1.         0.5        0.33333333 0.25      ]\n",
      " [0.2        0.16666667 0.14285714 0.125     ]]\n"
     ]
    }
   ],
   "source": [
    "my_array_resiprocal = 1/my_array\n",
    "print(my_array_resiprocal)"
   ]
  },
  {
   "cell_type": "code",
   "execution_count": 14,
   "metadata": {},
   "outputs": [
    {
     "name": "stdout",
     "output_type": "stream",
     "text": [
      "[[  1   8  27  64]\n",
      " [125 216 343 512]]\n"
     ]
    }
   ],
   "source": [
    "my_array_power = my_array**3\n",
    "print(my_array_power)"
   ]
  },
  {
   "cell_type": "code",
   "execution_count": 15,
   "metadata": {},
   "outputs": [
    {
     "name": "stdout",
     "output_type": "stream",
     "text": [
      "[[1 2 3 4]\n",
      " [5 6 7 8]]\n"
     ]
    }
   ],
   "source": [
    "my_array_copy = my_array.copy()\n",
    "print(my_array_copy)"
   ]
  },
  {
   "cell_type": "code",
   "execution_count": 16,
   "metadata": {},
   "outputs": [
    {
     "name": "stdout",
     "output_type": "stream",
     "text": [
      "[[1 2 3]\n",
      " [4 5 6]\n",
      " [7 8 9]]\n"
     ]
    }
   ],
   "source": [
    "# Indexing\n",
    "multi_array = np.array([[1,2,3], [4,5,6], [7,8,9]])\n",
    "print(multi_array)"
   ]
  },
  {
   "cell_type": "code",
   "execution_count": 17,
   "metadata": {},
   "outputs": [
    {
     "name": "stdout",
     "output_type": "stream",
     "text": [
      "[1 2 3]\n",
      "[1 4 7]\n",
      "1\n"
     ]
    }
   ],
   "source": [
    "# Accessing rows and columns\n",
    "\n",
    "# Zeroth row\n",
    "print(multi_array[0, :])\n",
    "# Alternate\n",
    "# print(multi_array[0]) \n",
    "\n",
    "# Zeroth column\n",
    "print(multi_array[: ,0])\n",
    "\n",
    "# Zeroth row and zeroth column\n",
    "print(multi_array[0,0])"
   ]
  },
  {
   "cell_type": "code",
   "execution_count": 18,
   "metadata": {},
   "outputs": [
    {
     "name": "stdout",
     "output_type": "stream",
     "text": [
      "[[2]\n",
      " [5]]\n"
     ]
    }
   ],
   "source": [
    "# Slicing\n",
    "print(multi_array[0:2, 1:2])  # i.e. 0th to 1st row and 1st column\n",
    "\n",
    "# Alternate for only rows\n",
    "# print(multi_array[[0,1]])"
   ]
  },
  {
   "cell_type": "code",
   "execution_count": 19,
   "metadata": {},
   "outputs": [
    {
     "name": "stdout",
     "output_type": "stream",
     "text": [
      "[[ 1 73  3]\n",
      " [ 4 73  6]\n",
      " [ 7  8  9]]\n"
     ]
    }
   ],
   "source": [
    "# Assigning \n",
    "multi_array[0:2,1:2] = 73\n",
    "print(multi_array)"
   ]
  },
  {
   "cell_type": "code",
   "execution_count": 20,
   "metadata": {},
   "outputs": [
    {
     "name": "stdout",
     "output_type": "stream",
     "text": [
      "1\n",
      "73\n",
      "3\n",
      "4\n",
      "73\n",
      "6\n",
      "7\n",
      "8\n",
      "9\n"
     ]
    }
   ],
   "source": [
    "# Looping and accessing\n",
    "nrow = multi_array.shape[0]\n",
    "ncol = multi_array.shape[1]\n",
    "\n",
    "for i in range(nrow):\n",
    "    for j in range(ncol):\n",
    "        print(multi_array[i][j])"
   ]
  },
  {
   "cell_type": "code",
   "execution_count": 21,
   "metadata": {},
   "outputs": [
    {
     "name": "stdout",
     "output_type": "stream",
     "text": [
      "184\n",
      "193378752\n",
      "20.444444444444443\n",
      "28.19027062702115\n",
      "794.6913580246913\n",
      "[ 12 154  18]\n"
     ]
    }
   ],
   "source": [
    "# Sum of elements\n",
    "print(multi_array.sum())\n",
    "\n",
    "# Product of elements\n",
    "print(multi_array.prod())\n",
    "\n",
    "# Mean of elements\n",
    "print(multi_array.mean())\n",
    "\n",
    "# Standard deviation of elements\n",
    "print(multi_array.std())\n",
    "\n",
    "# Variance of elements\n",
    "print(multi_array.var())\n",
    "\n",
    "# Column sums\n",
    "print(multi_array.sum(0))"
   ]
  },
  {
   "cell_type": "code",
   "execution_count": 22,
   "metadata": {},
   "outputs": [
    {
     "name": "stdout",
     "output_type": "stream",
     "text": [
      "[ 1  3  5  7  9 11 13 15 17 19]\n"
     ]
    }
   ],
   "source": [
    "# Looping in increments\n",
    "a = np.arange(1,20,2)\n",
    "print(a)"
   ]
  },
  {
   "cell_type": "code",
   "execution_count": 23,
   "metadata": {},
   "outputs": [
    {
     "name": "stdout",
     "output_type": "stream",
     "text": [
      "[1.         1.73205081 2.23606798 2.64575131 3.         3.31662479\n",
      " 3.60555128 3.87298335 4.12310563 4.35889894]\n",
      "[2.71828183e+00 2.00855369e+01 1.48413159e+02 1.09663316e+03\n",
      " 8.10308393e+03 5.98741417e+04 4.42413392e+05 3.26901737e+06\n",
      " 2.41549528e+07 1.78482301e+08]\n",
      "19\n",
      "1\n",
      "100\n",
      "654729075\n"
     ]
    }
   ],
   "source": [
    "# Square-root of array elements\n",
    "print(np.sqrt(a))\n",
    "\n",
    "# Exponential of array elements\n",
    "print(np.exp(a))\n",
    "\n",
    "# Maximum of array elements\n",
    "print(np.max(a))\n",
    "\n",
    "# Minimum of array elements\n",
    "print(np.min(a))\n",
    "\n",
    "# Sum of array elements\n",
    "print(np.sum(a))\n",
    "# Alternatively\n",
    "# print(a.sum())\n",
    "\n",
    "# Product of array elemets\n",
    "print(np.prod(a))\n",
    "# Alternatively\n",
    "# print(a.prod())"
   ]
  },
  {
   "cell_type": "code",
   "execution_count": 24,
   "metadata": {},
   "outputs": [
    {
     "name": "stdout",
     "output_type": "stream",
     "text": [
      "[12 12 34 45 45 74 74 78 87]\n",
      "[12 34 45 74 78 87]\n",
      "[False  True]\n"
     ]
    }
   ],
   "source": [
    "MyArray = np.array([45,87,12,34,74,45,78,12,74])\n",
    "\n",
    "# Soring array\n",
    "print(np.sort(MyArray))\n",
    "\n",
    "# Finding unique elements\n",
    "print(np.unique(MyArray))\n",
    "\n",
    "# Finding if elements in array\n",
    "print(np.in1d([56,12], MyArray))"
   ]
  },
  {
   "cell_type": "code",
   "execution_count": 25,
   "metadata": {},
   "outputs": [
    {
     "name": "stdout",
     "output_type": "stream",
     "text": [
      "[4 3 5]\n",
      "[-2  1  1]\n",
      "[3 2 6]\n",
      "[0.33333333 2.         1.5       ]\n"
     ]
    }
   ],
   "source": [
    "# Array operations using built in functions\n",
    "a1 = np.array([1,2,3])\n",
    "a2 = np.array([3,1,2])\n",
    "\n",
    "# Adding arrays\n",
    "print(np.add(a1,a2))\n",
    "\n",
    "# Subtracting arrays\n",
    "print(np.subtract(a1,a2))\n",
    "\n",
    "# Multiplying arrays\n",
    "print(np.multiply(a1,a2))\n",
    "\n",
    "# Dividing arrays\n",
    "print(np.divide(a1,a2))"
   ]
  },
  {
   "cell_type": "code",
   "execution_count": 26,
   "metadata": {},
   "outputs": [
    {
     "name": "stdout",
     "output_type": "stream",
     "text": [
      "[3 2 3]\n",
      "[1 1 2]\n"
     ]
    }
   ],
   "source": [
    "# Maximum of both positions\n",
    "print(np.maximum(a1,a2))\n",
    "\n",
    "# Minimum of both positons\n",
    "print(np.minimum(a1,a2))"
   ]
  },
  {
   "cell_type": "code",
   "execution_count": 27,
   "metadata": {},
   "outputs": [
    {
     "name": "stdout",
     "output_type": "stream",
     "text": [
      "[1 2 3 4 5 6 7]\n"
     ]
    }
   ],
   "source": [
    "# Saving and loading an array from external memory\n",
    "array = np.array([1,2,3,4,5,6,7])\n",
    "np.save(\"saved_array.npy\", array)\n",
    "loaded_array = np.load(\"saved_array.npy\")\n",
    "print(loaded_array)"
   ]
  },
  {
   "cell_type": "code",
   "execution_count": 28,
   "metadata": {},
   "outputs": [
    {
     "name": "stdout",
     "output_type": "stream",
     "text": [
      "[1 2 3 4 5 6 7]\n",
      "[9 8 7 6 5 4 3]\n"
     ]
    }
   ],
   "source": [
    "# Saving and loading arrays from external memory\n",
    "arr0 = np.array([1,2,3,4,5,6,7])\n",
    "arr1 = np.array([9,8,7,6,5,4,3])\n",
    "np.savez(\"saved_archive.npz\", a0 = arr0, a1 = arr1)\n",
    "loaded_archive = np.load(\"saved_archive.npz\")\n",
    "print(loaded_archive[\"a0\"])\n",
    "print(loaded_archive[\"a1\"])"
   ]
  },
  {
   "cell_type": "code",
   "execution_count": 29,
   "metadata": {},
   "outputs": [
    {
     "name": "stdout",
     "output_type": "stream",
     "text": [
      "[1. 2. 3. 4. 5. 6. 7.]\n"
     ]
    }
   ],
   "source": [
    "# Saving to textfile\n",
    "array = np.array([1,2,3,4,5,6,7])\n",
    "np.savetxt(\"textfile.txt\", array, delimiter = \",\")\n",
    "loaded_text = np.loadtxt(\"textfile.txt\", delimiter = \",\")\n",
    "print(loaded_text)"
   ]
  },
  {
   "cell_type": "code",
   "execution_count": 30,
   "metadata": {},
   "outputs": [
    {
     "name": "stdout",
     "output_type": "stream",
     "text": [
      "AxesImage(80,52.8;496x369.6)\n"
     ]
    }
   ],
   "source": [
    "# Statistical and Mathemaical Processing\n",
    "import matplotlib.pyplot as plt\n",
    "\n",
    "axis_values = np.arange(-100, 100, 10)\n",
    "x, y = np.meshgrid(axis_values, axis_values)\n",
    "f = 2*x + 3*y\n",
    "print(plt.imshow(f))\n",
    "plt.title(\"Plot of f = 2x + 3y\")\n",
    "plt.colorbar()\n",
    "plt.savefig(\"MyPic.png\")"
   ]
  },
  {
   "cell_type": "code",
   "execution_count": 31,
   "metadata": {},
   "outputs": [
    {
     "name": "stdout",
     "output_type": "stream",
     "text": [
      "[100, 70, 300, 600, 15]\n",
      "[100  70 300 600  15]\n",
      "[0 0 0 1 1]\n",
      "True\n",
      "False\n"
     ]
    }
   ],
   "source": [
    "# Conditional clauses and boolean operations\n",
    "x = np.array([100,200,300,400,500])\n",
    "y = np.array([500,70, 23, 600, 15])\n",
    "conditions = np.array([True, False, True, False, False])\n",
    "\n",
    "z1  = [a if cond else b for a,cond,b in zip(x,conditions,y)]\n",
    "print(z1)\n",
    "\n",
    "z2 = np.where(conditions, x, y)\n",
    "print(z2)\n",
    "\n",
    "z3 = np.where(x>350, 1, 0)\n",
    "print(z3)\n",
    "\n",
    "# \"OR\" of elements\n",
    "print(conditions.any())\n",
    "\n",
    "# \"AND\" of elements\n",
    "print(conditions.all())"
   ]
  },
  {
   "cell_type": "code",
   "execution_count": null,
   "metadata": {},
   "outputs": [],
   "source": []
  }
 ],
 "metadata": {
  "kernelspec": {
   "display_name": "Python 3",
   "language": "python",
   "name": "python3"
  },
  "language_info": {
   "codemirror_mode": {
    "name": "ipython",
    "version": 3
   },
   "file_extension": ".py",
   "mimetype": "text/x-python",
   "name": "python",
   "nbconvert_exporter": "python",
   "pygments_lexer": "ipython3",
   "version": "3.7.1"
  }
 },
 "nbformat": 4,
 "nbformat_minor": 2
}
