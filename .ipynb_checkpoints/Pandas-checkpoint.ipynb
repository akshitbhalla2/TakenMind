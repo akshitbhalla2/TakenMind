{
 "cells": [
  {
   "cell_type": "code",
   "execution_count": 1,
   "metadata": {},
   "outputs": [],
   "source": [
    "import pandas as pd"
   ]
  },
  {
   "cell_type": "code",
   "execution_count": 2,
   "metadata": {},
   "outputs": [
    {
     "name": "stdout",
     "output_type": "stream",
     "text": [
      "[ 5 10 15 20]\n",
      "RangeIndex(start=0, stop=4, step=1)\n"
     ]
    }
   ],
   "source": [
    "# Making a series\n",
    "MySeries = pd.Series([5,10,15,20])\n",
    "print(MySeries.values)\n",
    "print(MySeries.index)"
   ]
  },
  {
   "cell_type": "code",
   "execution_count": 3,
   "metadata": {},
   "outputs": [
    {
     "name": "stdout",
     "output_type": "stream",
     "text": [
      "ind1    a\n",
      "9       5\n",
      "2       t\n",
      "0       c\n",
      "dtype: object\n"
     ]
    }
   ],
   "source": [
    "# Custom indexes in series\n",
    "MySeries = pd.Series([\"a\",5,\"t\",\"c\"], index = [\"ind1\",9,2,0])\n",
    "print(MySeries)"
   ]
  },
  {
   "cell_type": "code",
   "execution_count": 4,
   "metadata": {},
   "outputs": [
    {
     "data": {
      "text/plain": [
       "9    5\n",
       "2    t\n",
       "0    c\n",
       "dtype: object"
      ]
     },
     "execution_count": 4,
     "metadata": {},
     "output_type": "execute_result"
    }
   ],
   "source": [
    "# Accessing series elements using indices\n",
    "MySeries[1:4]"
   ]
  },
  {
   "cell_type": "code",
   "execution_count": 5,
   "metadata": {},
   "outputs": [
    {
     "name": "stdout",
     "output_type": "stream",
     "text": [
      "him    3\n",
      "her    4\n",
      "us     5\n",
      "dtype: int64\n",
      "True\n",
      "False\n"
     ]
    }
   ],
   "source": [
    "# Printing with conditions in series\n",
    "MySeries = pd.Series([1,2,3,4,5], index = [\"you\", \"me\", \"him\", \"her\", \"us\"])\n",
    "\n",
    "print(MySeries[MySeries>2])\n",
    "\n",
    "print(\"me\" in MySeries)\n",
    "print(\"them\" in MySeries)"
   ]
  },
  {
   "cell_type": "code",
   "execution_count": 6,
   "metadata": {},
   "outputs": [
    {
     "name": "stdout",
     "output_type": "stream",
     "text": [
      "{'you': 1, 'me': 2, 'him': 3, 'her': 4, 'us': 5}\n"
     ]
    }
   ],
   "source": [
    "# Converting Series to Dictionary\n",
    "MyDictionary = MySeries.to_dict()\n",
    "print(MyDictionary)"
   ]
  },
  {
   "cell_type": "code",
   "execution_count": 7,
   "metadata": {},
   "outputs": [
    {
     "name": "stdout",
     "output_type": "stream",
     "text": [
      "a    10.0\n",
      "b    25.0\n",
      "c    32.0\n",
      "d    47.0\n",
      "e     NaN\n",
      "dtype: float64\n",
      "a    False\n",
      "b    False\n",
      "c    False\n",
      "d    False\n",
      "e     True\n",
      "dtype: bool\n",
      "a     True\n",
      "b     True\n",
      "c     True\n",
      "d     True\n",
      "e    False\n",
      "dtype: bool\n"
     ]
    }
   ],
   "source": [
    "# The case of missing data in Series\n",
    "MySeries1 = pd.Series([10,25,32,47], index = [\"a\", \"b\", \"c\", \"d\"])\n",
    "MyIndex = [\"a\", \"b\", \"c\", \"d\", \"e\"]\n",
    "MySeries2 = pd.Series(MySeries1, MyIndex)\n",
    "print(MySeries2) # Shows NaN \n",
    "print(pd.isnull(MySeries2)) # Gives True only if Null\n",
    "print(pd.notnull(MySeries2)) # Gives True only if Not Null"
   ]
  },
  {
   "cell_type": "code",
   "execution_count": 8,
   "metadata": {},
   "outputs": [
    {
     "name": "stdout",
     "output_type": "stream",
     "text": [
      "Index\n",
      "a    10.0\n",
      "b    25.0\n",
      "c    32.0\n",
      "d    47.0\n",
      "e     NaN\n",
      "Name: Number, dtype: float64\n"
     ]
    }
   ],
   "source": [
    "# Assigning names to columns\n",
    "MySeries2.name = \"Number\"\n",
    "MySeries2.index.name = \"Index\"\n",
    "print(MySeries2)"
   ]
  },
  {
   "cell_type": "code",
   "execution_count": 9,
   "metadata": {},
   "outputs": [
    {
     "name": "stdout",
     "output_type": "stream",
     "text": [
      "a    20.0\n",
      "b    50.0\n",
      "c    64.0\n",
      "d    94.0\n",
      "e     NaN\n",
      "dtype: float64\n"
     ]
    }
   ],
   "source": [
    "# Arithmetic operations on elements\n",
    "print(MySeries1 + MySeries2)"
   ]
  },
  {
   "cell_type": "code",
   "execution_count": 10,
   "metadata": {},
   "outputs": [],
   "source": [
    "# Working with DataFrame\n",
    "MyFile = \"C:/Users/AKSHIT/7SEM/Internship_TakenMind/WORK/udemy.csv\"\n",
    "revenue = pd.read_csv(MyFile)"
   ]
  },
  {
   "cell_type": "code",
   "execution_count": 11,
   "metadata": {},
   "outputs": [
    {
     "name": "stdout",
     "output_type": "stream",
     "text": [
      "   Revenue  Rank      Industry\n",
      "0   514405     1        Retail\n",
      "1   414649     2   Oil and gas\n",
      "2   396556     3   Oil and gas\n",
      "3   569696     4   Oil and gas\n",
      "4   387056     5   Electricity\n",
      "5   355905     6   Oil and gas\n"
     ]
    }
   ],
   "source": [
    "print(revenue[[\"Revenue\",\"Rank\", \"Industry\"]])"
   ]
  },
  {
   "cell_type": "code",
   "execution_count": 12,
   "metadata": {},
   "outputs": [
    {
     "name": "stdout",
     "output_type": "stream",
     "text": [
      "   Rank                       Name      Industry  Revenue  Profit  Employees  \\\n",
      "0     1                    Walmart        Retail   514405    6670    2200000   \n",
      "1     2                    Sinopec   Oil and gas   414649    5845     619151   \n",
      "2     3          Royal Dutch Shell   Oil and gas   396556   23352      81000   \n",
      "3     4   China National Petroleum   Oil and gas   569696    2270    1382401   \n",
      "4     5                 State Grid   Electricity   387056    8174     917717   \n",
      "\n",
      "          Country  \n",
      "0   United States  \n",
      "1           China  \n",
      "2     Netherlands  \n",
      "3           China  \n",
      "4           China  \n",
      "   Rank                       Name      Industry  Revenue  Profit  Employees  \\\n",
      "1     2                    Sinopec   Oil and gas   414649    5845     619151   \n",
      "2     3          Royal Dutch Shell   Oil and gas   396556   23352      81000   \n",
      "3     4   China National Petroleum   Oil and gas   569696    2270    1382401   \n",
      "4     5                 State Grid   Electricity   387056    8174     917717   \n",
      "5     6               Saudi Aramco   Oil and gas   355905  110974      76418   \n",
      "\n",
      "         Country  \n",
      "1          China  \n",
      "2    Netherlands  \n",
      "3          China  \n",
      "4          China  \n",
      "5   Saudi Arabia  \n"
     ]
    }
   ],
   "source": [
    "# Printing head and tail\n",
    "print(revenue.head())\n",
    "print(revenue.tail())"
   ]
  },
  {
   "cell_type": "code",
   "execution_count": 13,
   "metadata": {},
   "outputs": [
    {
     "name": "stderr",
     "output_type": "stream",
     "text": [
      "C:\\Users\\AKSHIT\\Anaconda3\\lib\\site-packages\\ipykernel_launcher.py:2: FutureWarning: \n",
      ".ix is deprecated. Please use\n",
      ".loc for label based indexing or\n",
      ".iloc for positional indexing\n",
      "\n",
      "See the documentation here:\n",
      "http://pandas.pydata.org/pandas-docs/stable/user_guide/indexing.html#ix-indexer-is-deprecated\n",
      "  \n"
     ]
    },
    {
     "data": {
      "text/plain": [
       "Rank                      1\n",
       "Name                Walmart\n",
       "Industry             Retail\n",
       "Revenue              514405\n",
       "Profit                 6670\n",
       "Employees           2200000\n",
       "Country       United States\n",
       "Name: 0, dtype: object"
      ]
     },
     "execution_count": 13,
     "metadata": {},
     "output_type": "execute_result"
    }
   ],
   "source": [
    "# Access rows\n",
    "revenue.ix[0]"
   ]
  },
  {
   "cell_type": "code",
   "execution_count": 14,
   "metadata": {},
   "outputs": [
    {
     "name": "stdout",
     "output_type": "stream",
     "text": [
      "   Rank                       Name      Industry  Revenue  Profit  Employees  \\\n",
      "0     1                    Walmart        Retail   514405     NaN    2200000   \n",
      "1     2                    Sinopec   Oil and gas   414649     NaN     619151   \n",
      "2     3          Royal Dutch Shell   Oil and gas   396556     NaN      81000   \n",
      "3     4   China National Petroleum   Oil and gas   569696   900.0    1382401   \n",
      "4     5                 State Grid   Electricity   387056     NaN     917717   \n",
      "5     6               Saudi Aramco   Oil and gas   355905  1000.0      76418   \n",
      "\n",
      "          Country  \n",
      "0   United States  \n",
      "1           China  \n",
      "2     Netherlands  \n",
      "3           China  \n",
      "4           China  \n",
      "5    Saudi Arabia  \n"
     ]
    }
   ],
   "source": [
    "# Assigning values\n",
    "revenue[\"Profit\"] = pd.Series([900,1000], index = [3,5])\n",
    "print(revenue)"
   ]
  },
  {
   "cell_type": "code",
   "execution_count": 15,
   "metadata": {},
   "outputs": [],
   "source": [
    "# Deleting column\n",
    "del revenue[\"Profit\"]"
   ]
  },
  {
   "cell_type": "code",
   "execution_count": 16,
   "metadata": {},
   "outputs": [
    {
     "name": "stdout",
     "output_type": "stream",
     "text": [
      "   col1  col2\n",
      "0     1     6\n",
      "1     2     7\n",
      "2     3     8\n",
      "3     4     9\n",
      "4     5     0\n"
     ]
    }
   ],
   "source": [
    "# Dictionary to DataFrame\n",
    "MyDict = {\n",
    "    \"col1\": [1,2,3,4,5],\n",
    "    \"col2\": [6,7,8,9,0]\n",
    "}\n",
    "print(pd.DataFrame(MyDict))"
   ]
  },
  {
   "cell_type": "code",
   "execution_count": 17,
   "metadata": {},
   "outputs": [
    {
     "name": "stdout",
     "output_type": "stream",
     "text": [
      "Index(['b', 'c'], dtype='object')\n",
      "Index(['c', 'd'], dtype='object')\n"
     ]
    }
   ],
   "source": [
    "# Indexing \n",
    "series = pd.Series([10,20,30,40], index = [\"a\", \"b\", \"c\", \"d\"])\n",
    "index = series.index\n",
    "print(index[1:3])\n",
    "print(index[-2:])"
   ]
  },
  {
   "cell_type": "code",
   "execution_count": 18,
   "metadata": {},
   "outputs": [
    {
     "name": "stdout",
     "output_type": "stream",
     "text": [
      "t    2\n",
      "f    5\n",
      "r    7\n",
      "o    8\n",
      "dtype: int64\n",
      "t      2\n",
      "f      5\n",
      "r      7\n",
      "o      8\n",
      "i    100\n",
      "l    100\n",
      "dtype: int64\n"
     ]
    }
   ],
   "source": [
    "# Reindexing\n",
    "series1 = pd.Series([2,5,7,8], index = [\"t\", \"f\", \"r\", \"o\"])\n",
    "print(series1)\n",
    "series2 = series1.reindex([\"t\", \"f\", \"r\", \"o\", \"i\", \"l\"], fill_value = 100)\n",
    "print(series2)"
   ]
  },
  {
   "cell_type": "code",
   "execution_count": 19,
   "metadata": {},
   "outputs": [
    {
     "name": "stdout",
     "output_type": "stream",
     "text": [
      "0     Audi\n",
      "1     Audi\n",
      "2     Audi\n",
      "3     Audi\n",
      "4     Merc\n",
      "5     Merc\n",
      "6     Merc\n",
      "7     Merc\n",
      "8      BMW\n",
      "9      BMW\n",
      "10     BMW\n",
      "11     BMW\n",
      "12     BMW\n",
      "dtype: object\n"
     ]
    }
   ],
   "source": [
    "# Using forward fill\n",
    "cars = pd.Series([\"Audi\", \"Merc\", \"BMW\"], index = [0,4,8])\n",
    "print(cars.reindex(range(13), method=\"ffill\"))"
   ]
  },
  {
   "cell_type": "code",
   "execution_count": 20,
   "metadata": {},
   "outputs": [],
   "source": [
    "from numpy.random import randn"
   ]
  },
  {
   "cell_type": "code",
   "execution_count": 21,
   "metadata": {},
   "outputs": [
    {
     "name": "stdout",
     "output_type": "stream",
     "text": [
      "         c1        c2        c3        c4        c5\n",
      "a -2.061921  0.689087  1.342020  0.874082  0.676886\n",
      "b  0.472810 -0.969742 -1.236193  1.142549 -1.242644\n",
      "c  0.804026 -0.643418 -0.549528 -0.185166  0.248471\n",
      "d  2.096831 -0.807598 -1.495948 -0.731083 -1.359714\n",
      "e  1.661600  2.280495  0.755413 -0.692414  0.532661\n"
     ]
    }
   ],
   "source": [
    "# Creating a DataFrame randomly\n",
    "df = pd.DataFrame(randn(25).reshape(5,5), index = [\"a\", \"b\", \"c\", \"d\", \"e\"], columns = [\"c1\", \"c2\", \"c3\", \"c4\", \"c5\"] )\n",
    "print(df)"
   ]
  },
  {
   "cell_type": "code",
   "execution_count": 22,
   "metadata": {},
   "outputs": [],
   "source": [
    "# The case of missing data in DataFrame\n",
    "df = df.reindex(index = [\"a\", \"b\", \"c\", \"d\", \"e\", \"f\"], columns = [\"c1\", \"c2\", \"c3\", \"c4\", \"c5\", \"c6\"])\n",
    "# Alternatively\n",
    "# df = df.ix[[\"a\", \"b\", \"c\", \"d\", \"e\", \"f\"], [\"c1\", \"c2\", \"c3\", \"c4\", \"c5\", \"c6\"]]"
   ]
  },
  {
   "cell_type": "code",
   "execution_count": 23,
   "metadata": {},
   "outputs": [
    {
     "data": {
      "text/plain": [
       "0    Audi\n",
       "8     BMW\n",
       "dtype: object"
      ]
     },
     "execution_count": 23,
     "metadata": {},
     "output_type": "execute_result"
    }
   ],
   "source": [
    "# Droping entries from Series\n",
    "cars = pd.Series([\"Audi\", \"Merc\", \"BMW\"], index = [0,4,8])\n",
    "cars.drop(4)"
   ]
  },
  {
   "cell_type": "code",
   "execution_count": 24,
   "metadata": {},
   "outputs": [],
   "source": [
    "import numpy as np"
   ]
  },
  {
   "cell_type": "code",
   "execution_count": 45,
   "metadata": {},
   "outputs": [
    {
     "name": "stdout",
     "output_type": "stream",
     "text": [
      "      rev  prev  exp\n",
      "Audi    3     4    5\n",
      "Merc    6     7    8\n",
      "      prev  exp\n",
      "BMW      1    2\n",
      "Audi     4    5\n",
      "Merc     7    8\n"
     ]
    }
   ],
   "source": [
    "# Droping entries from a DataFrame\n",
    "cars = pd.DataFrame(np.arange(9).reshape(3,3), index = [\"BMW\", \"Audi\", \"Merc\"], columns = [\"rev\", \"prev\", \"exp\"])\n",
    "print(cars.drop(\"BMW\", axis = 0)) # Drop BMW row\n",
    "print(cars.drop(\"rev\", axis = 1)) # Drop rev column"
   ]
  },
  {
   "cell_type": "code",
   "execution_count": 26,
   "metadata": {},
   "outputs": [
    {
     "data": {
      "text/plain": [
       "0    A\n",
       "1    B\n",
       "2    C\n",
       "dtype: object"
      ]
     },
     "execution_count": 26,
     "metadata": {},
     "output_type": "execute_result"
    }
   ],
   "source": [
    "# Droping NULL data from series\n",
    "series = pd.Series([\"A\", \"B\", \"C\", np.nan])\n",
    "series.dropna()"
   ]
  },
  {
   "cell_type": "code",
   "execution_count": 27,
   "metadata": {},
   "outputs": [
    {
     "data": {
      "text/html": [
       "<div>\n",
       "<style scoped>\n",
       "    .dataframe tbody tr th:only-of-type {\n",
       "        vertical-align: middle;\n",
       "    }\n",
       "\n",
       "    .dataframe tbody tr th {\n",
       "        vertical-align: top;\n",
       "    }\n",
       "\n",
       "    .dataframe thead th {\n",
       "        text-align: right;\n",
       "    }\n",
       "</style>\n",
       "<table border=\"1\" class=\"dataframe\">\n",
       "  <thead>\n",
       "    <tr style=\"text-align: right;\">\n",
       "      <th></th>\n",
       "      <th>0</th>\n",
       "      <th>1</th>\n",
       "      <th>2</th>\n",
       "      <th>3</th>\n",
       "    </tr>\n",
       "  </thead>\n",
       "  <tbody>\n",
       "    <tr>\n",
       "      <td>0</td>\n",
       "      <td>1.0</td>\n",
       "      <td>2.0</td>\n",
       "      <td>3.0</td>\n",
       "      <td>4.0</td>\n",
       "    </tr>\n",
       "  </tbody>\n",
       "</table>\n",
       "</div>"
      ],
      "text/plain": [
       "     0    1    2    3\n",
       "0  1.0  2.0  3.0  4.0"
      ]
     },
     "execution_count": 27,
     "metadata": {},
     "output_type": "execute_result"
    }
   ],
   "source": [
    "# Droping all NULL rows from a DataFrame\n",
    "df = pd.DataFrame([[1,2,3,4], [5, np.nan, 7, np.nan], [np.nan, np.nan, np.nan, np.nan]])\n",
    "df.dropna()"
   ]
  },
  {
   "cell_type": "code",
   "execution_count": 28,
   "metadata": {},
   "outputs": [
    {
     "data": {
      "text/html": [
       "<div>\n",
       "<style scoped>\n",
       "    .dataframe tbody tr th:only-of-type {\n",
       "        vertical-align: middle;\n",
       "    }\n",
       "\n",
       "    .dataframe tbody tr th {\n",
       "        vertical-align: top;\n",
       "    }\n",
       "\n",
       "    .dataframe thead th {\n",
       "        text-align: right;\n",
       "    }\n",
       "</style>\n",
       "<table border=\"1\" class=\"dataframe\">\n",
       "  <thead>\n",
       "    <tr style=\"text-align: right;\">\n",
       "      <th></th>\n",
       "      <th>0</th>\n",
       "      <th>1</th>\n",
       "      <th>2</th>\n",
       "      <th>3</th>\n",
       "    </tr>\n",
       "  </thead>\n",
       "  <tbody>\n",
       "    <tr>\n",
       "      <td>0</td>\n",
       "      <td>1.0</td>\n",
       "      <td>2.0</td>\n",
       "      <td>3.0</td>\n",
       "      <td>4.0</td>\n",
       "    </tr>\n",
       "    <tr>\n",
       "      <td>1</td>\n",
       "      <td>5.0</td>\n",
       "      <td>NaN</td>\n",
       "      <td>7.0</td>\n",
       "      <td>NaN</td>\n",
       "    </tr>\n",
       "  </tbody>\n",
       "</table>\n",
       "</div>"
      ],
      "text/plain": [
       "     0    1    2    3\n",
       "0  1.0  2.0  3.0  4.0\n",
       "1  5.0  NaN  7.0  NaN"
      ]
     },
     "execution_count": 28,
     "metadata": {},
     "output_type": "execute_result"
    }
   ],
   "source": [
    "# Droping only those rows of a DataFrame which are entirely NULL\n",
    "df = pd.DataFrame([[1,2,3,4], [5, np.nan, 7, np.nan], [np.nan, np.nan, np.nan, np.nan]])\n",
    "df.dropna(how = \"all\")"
   ]
  },
  {
   "cell_type": "code",
   "execution_count": 29,
   "metadata": {},
   "outputs": [
    {
     "name": "stdout",
     "output_type": "stream",
     "text": [
      "     0    1    2    3\n",
      "0  1.0  2.0  3.0  4.0\n",
      "Empty DataFrame\n",
      "Columns: []\n",
      "Index: [0, 1, 2]\n"
     ]
    }
   ],
   "source": [
    "# Droping a particular row or column with NULL values from a DataFrame\n",
    "print(df.dropna(axis = 0)) # Rows\n",
    "print(df.dropna(axis = 1)) # Columns"
   ]
  },
  {
   "cell_type": "code",
   "execution_count": 30,
   "metadata": {},
   "outputs": [
    {
     "name": "stdout",
     "output_type": "stream",
     "text": [
      "Empty DataFrame\n",
      "Columns: [0, 1, 2, 3]\n",
      "Index: []\n"
     ]
    }
   ],
   "source": [
    "# Droping rows with numbers less than a given real number\n",
    "print(df.dropna(thresh = 10))"
   ]
  },
  {
   "cell_type": "code",
   "execution_count": 31,
   "metadata": {},
   "outputs": [
    {
     "name": "stdout",
     "output_type": "stream",
     "text": [
      "     0    1    2    3\n",
      "0  1.0  2.0  3.0  4.0\n",
      "1  5.0  0.0  7.0  0.0\n",
      "2  0.0  0.0  0.0  0.0\n"
     ]
    }
   ],
   "source": [
    "# Replacing all NULL values with a given number\n",
    "print(df.fillna(0))"
   ]
  },
  {
   "cell_type": "code",
   "execution_count": 32,
   "metadata": {},
   "outputs": [
    {
     "name": "stdout",
     "output_type": "stream",
     "text": [
      "      0     1     2     3\n",
      "0   1.0   2.0   3.0   4.0\n",
      "1   5.0  23.0   7.0  89.0\n",
      "2  17.0  23.0  32.0  89.0\n"
     ]
    }
   ],
   "source": [
    "# Replacing NULL values with a given number row-wise\n",
    "print(df.fillna({0:17, 1:23, 2:32, 3:89}))"
   ]
  },
  {
   "cell_type": "code",
   "execution_count": 33,
   "metadata": {},
   "outputs": [
    {
     "name": "stdout",
     "output_type": "stream",
     "text": [
      "         a    b   c\n",
      "bike   5.0  7.0 NaN\n",
      "car    0.0  2.0 NaN\n",
      "cycle  NaN  NaN NaN\n"
     ]
    }
   ],
   "source": [
    "# Coordinate and regulate data\n",
    "df1 = pd.DataFrame(np.arange(4).reshape(2,2), columns = [\"a\", \"b\"], index = [\"car\", \"bike\"])\n",
    "df2 = pd.DataFrame(np.arange(9).reshape(3,3), columns = [\"a\", \"b\", \"c\"], index = [\"car\", \"bike\", \"cycle\"])\n",
    "print(df1 +  df2)"
   ]
  },
  {
   "cell_type": "code",
   "execution_count": 34,
   "metadata": {},
   "outputs": [
    {
     "name": "stdout",
     "output_type": "stream",
     "text": [
      "a    15\n",
      "b     7\n",
      "c    42\n",
      "dtype: int64\n",
      "b     7\n",
      "a    15\n",
      "c    42\n",
      "dtype: int64\n"
     ]
    }
   ],
   "source": [
    "# Sorting seires \n",
    "series = pd.Series([15, 42, 7], index = [\"a\", \"c\", \"b\"])\n",
    "print(series.sort_index()) # By index\n",
    "print(series.sort_values()) # By values"
   ]
  },
  {
   "cell_type": "code",
   "execution_count": 35,
   "metadata": {},
   "outputs": [
    {
     "name": "stdout",
     "output_type": "stream",
     "text": [
      "a    2.0\n",
      "c    3.0\n",
      "b    1.0\n",
      "dtype: float64\n"
     ]
    }
   ],
   "source": [
    "# Ranking series\n",
    "print(series.rank())"
   ]
  },
  {
   "cell_type": "code",
   "execution_count": 36,
   "metadata": {},
   "outputs": [
    {
     "name": "stdout",
     "output_type": "stream",
     "text": [
      "A    40.0\n",
      "B    40.0\n",
      "C    20.0\n",
      "dtype: float64\n",
      "1    30.0\n",
      "2    70.0\n",
      "dtype: float64\n"
     ]
    }
   ],
   "source": [
    "# Row and column sums in a DataFrame\n",
    "array = np.array([[10, np.nan, 20], [30, 40, np.nan]])\n",
    "df = pd.DataFrame(array, index = [1,2], columns = list(\"ABC\"))\n",
    "\n",
    "print(df.sum(axis=0)) # Column sums\n",
    "# Alternatively\n",
    "# df.sum()\n",
    "\n",
    "print(df.sum(axis=1)) # Row sums"
   ]
  },
  {
   "cell_type": "code",
   "execution_count": 37,
   "metadata": {},
   "outputs": [
    {
     "name": "stdout",
     "output_type": "stream",
     "text": [
      "A    30.0\n",
      "B    40.0\n",
      "C    20.0\n",
      "dtype: float64\n",
      "A    10.0\n",
      "B    40.0\n",
      "C    20.0\n",
      "dtype: float64\n"
     ]
    }
   ],
   "source": [
    "# Finding maximum/minimum element from each column\n",
    "print(df.max())\n",
    "print(df.min())"
   ]
  },
  {
   "cell_type": "code",
   "execution_count": 38,
   "metadata": {},
   "outputs": [
    {
     "name": "stdout",
     "output_type": "stream",
     "text": [
      "A    2\n",
      "B    2\n",
      "C    1\n",
      "dtype: int64\n",
      "A    1\n",
      "B    2\n",
      "C    1\n",
      "dtype: int64\n"
     ]
    }
   ],
   "source": [
    "# Finding index of row to which maximum/minimum element in column belongs\n",
    "print(df.idxmax())\n",
    "print(df.idxmin())"
   ]
  },
  {
   "cell_type": "code",
   "execution_count": 39,
   "metadata": {},
   "outputs": [
    {
     "name": "stdout",
     "output_type": "stream",
     "text": [
      "      A     B     C\n",
      "1  10.0   NaN  20.0\n",
      "2  40.0  40.0   NaN\n"
     ]
    }
   ],
   "source": [
    "# Finding cumulative sum of columns\n",
    "print(df.cumsum())"
   ]
  },
  {
   "cell_type": "code",
   "execution_count": 40,
   "metadata": {},
   "outputs": [
    {
     "data": {
      "text/html": [
       "<div>\n",
       "<style scoped>\n",
       "    .dataframe tbody tr th:only-of-type {\n",
       "        vertical-align: middle;\n",
       "    }\n",
       "\n",
       "    .dataframe tbody tr th {\n",
       "        vertical-align: top;\n",
       "    }\n",
       "\n",
       "    .dataframe thead th {\n",
       "        text-align: right;\n",
       "    }\n",
       "</style>\n",
       "<table border=\"1\" class=\"dataframe\">\n",
       "  <thead>\n",
       "    <tr style=\"text-align: right;\">\n",
       "      <th></th>\n",
       "      <th>A</th>\n",
       "      <th>B</th>\n",
       "      <th>C</th>\n",
       "    </tr>\n",
       "  </thead>\n",
       "  <tbody>\n",
       "    <tr>\n",
       "      <td>count</td>\n",
       "      <td>2.000000</td>\n",
       "      <td>1.0</td>\n",
       "      <td>1.0</td>\n",
       "    </tr>\n",
       "    <tr>\n",
       "      <td>mean</td>\n",
       "      <td>20.000000</td>\n",
       "      <td>40.0</td>\n",
       "      <td>20.0</td>\n",
       "    </tr>\n",
       "    <tr>\n",
       "      <td>std</td>\n",
       "      <td>14.142136</td>\n",
       "      <td>NaN</td>\n",
       "      <td>NaN</td>\n",
       "    </tr>\n",
       "    <tr>\n",
       "      <td>min</td>\n",
       "      <td>10.000000</td>\n",
       "      <td>40.0</td>\n",
       "      <td>20.0</td>\n",
       "    </tr>\n",
       "    <tr>\n",
       "      <td>25%</td>\n",
       "      <td>15.000000</td>\n",
       "      <td>40.0</td>\n",
       "      <td>20.0</td>\n",
       "    </tr>\n",
       "    <tr>\n",
       "      <td>50%</td>\n",
       "      <td>20.000000</td>\n",
       "      <td>40.0</td>\n",
       "      <td>20.0</td>\n",
       "    </tr>\n",
       "    <tr>\n",
       "      <td>75%</td>\n",
       "      <td>25.000000</td>\n",
       "      <td>40.0</td>\n",
       "      <td>20.0</td>\n",
       "    </tr>\n",
       "    <tr>\n",
       "      <td>max</td>\n",
       "      <td>30.000000</td>\n",
       "      <td>40.0</td>\n",
       "      <td>20.0</td>\n",
       "    </tr>\n",
       "  </tbody>\n",
       "</table>\n",
       "</div>"
      ],
      "text/plain": [
       "               A     B     C\n",
       "count   2.000000   1.0   1.0\n",
       "mean   20.000000  40.0  20.0\n",
       "std    14.142136   NaN   NaN\n",
       "min    10.000000  40.0  20.0\n",
       "25%    15.000000  40.0  20.0\n",
       "50%    20.000000  40.0  20.0\n",
       "75%    25.000000  40.0  20.0\n",
       "max    30.000000  40.0  20.0"
      ]
     },
     "execution_count": 40,
     "metadata": {},
     "output_type": "execute_result"
    }
   ],
   "source": [
    "# Displaying basic statistics such as count, mean, standard-deviation, etc for each column of a DataFrame\n",
    "df.describe()"
   ]
  },
  {
   "cell_type": "code",
   "execution_count": 41,
   "metadata": {},
   "outputs": [],
   "source": [
    "import matplotlib.pyplot as plt"
   ]
  },
  {
   "cell_type": "code",
   "execution_count": 42,
   "metadata": {},
   "outputs": [
    {
     "data": {
      "image/png": "[encoded data removed]",
      "text/plain": [
       "<Figure size 432x288 with 1 Axes>"
      ]
     },
     "metadata": {
      "needs_background": "light"
     },
     "output_type": "display_data"
    }
   ],
   "source": [
    "# Plotting the contents of a DataFrame\n",
    "MyData = pd.DataFrame(randn(9).reshape(3,3), index = [1,2,3], columns = list(\"ABC\"))\n",
    "plt.plot(MyData)\n",
    "plt.legend(MyData.columns)\n",
    "plt.savefig(\"samplepic.png\")\n",
    "plt.show()"
   ]
  },
  {
   "cell_type": "code",
   "execution_count": 43,
   "metadata": {},
   "outputs": [
    {
     "data": {
      "text/plain": [
       "array(['p', 's', 'm', 'd', 'f', 'j', 'n', 'a'], dtype=object)"
      ]
     },
     "execution_count": 43,
     "metadata": {},
     "output_type": "execute_result"
    }
   ],
   "source": [
    "# Finding the unique values in a series\n",
    "ser = pd.Series(list(\"psmdpfjsndpaa\"))\n",
    "ser.unique()"
   ]
  },
  {
   "cell_type": "code",
   "execution_count": 44,
   "metadata": {},
   "outputs": [
    {
     "data": {
      "text/plain": [
       "p    3\n",
       "a    2\n",
       "d    2\n",
       "s    2\n",
       "j    1\n",
       "n    1\n",
       "m    1\n",
       "f    1\n",
       "dtype: int64"
      ]
     },
     "execution_count": 44,
     "metadata": {},
     "output_type": "execute_result"
    }
   ],
   "source": [
    "# Finding the frequency of occurrence of elements in a series\n",
    "ser = pd.Series(list(\"psmdpfjsndpaa\"))\n",
    "ser.value_counts()"
   ]
  },
  {
   "cell_type": "code",
   "execution_count": null,
   "metadata": {},
   "outputs": [],
   "source": []
  }
 ],
 "metadata": {
  "kernelspec": {
   "display_name": "Python 3",
   "language": "python",
   "name": "python3"
  },
  "language_info": {
   "codemirror_mode": {
    "name": "ipython",
    "version": 3
   },
   "file_extension": ".py",
   "mimetype": "text/x-python",
   "name": "python",
   "nbconvert_exporter": "python",
   "pygments_lexer": "ipython3",
   "version": "3.7.1"
  }
 },
 "nbformat": 4,
 "nbformat_minor": 2
}
