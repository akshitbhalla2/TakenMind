{
 "cells": [
  {
   "cell_type": "code",
   "execution_count": 1,
   "metadata": {},
   "outputs": [],
   "source": [
    "import pandas as pd"
   ]
  },
  {
   "cell_type": "code",
   "execution_count": 2,
   "metadata": {},
   "outputs": [],
   "source": [
    "# Importing xlsx file file\n",
    "MyPath = \"dummy.xlsx\"\n",
    "# Read excel file\n",
    "excel = pd.ExcelFile(MyPath)\n",
    "# Read sheet in file\n",
    "df1 = excel.parse(\"Sheet1\")\n",
    "df2 = excel.parse(\"Sheet2\")\n",
    "df3 = excel.parse(\"Sheet3\")\n",
    "df4 = excel.parse(\"Sheet4\")\n",
    "df5 = excel.parse(\"Sheet5\")\n",
    "df6 = excel.parse(\"Sheet6\")\n",
    "df7 = excel.parse(\"Sheet7\")\n",
    "df8 = excel.parse(\"Sheet8\")\n",
    "df9 = excel.parse(\"Sheet9\")\n",
    "df10 = excel.parse(\"Sheet10\")"
   ]
  },
  {
   "cell_type": "code",
   "execution_count": 4,
   "metadata": {},
   "outputs": [],
   "source": [
    "# Export to csv\n",
    "df1.to_csv(\"Sheet1.csv\", sep = \",\", index = None)\n",
    "df2.to_csv(\"Sheet2.csv\", sep = \",\", index = None)\n",
    "df3.to_csv(\"Sheet3.csv\", sep = \",\", index = None)\n",
    "df4.to_csv(\"Sheet4.csv\", sep = \",\", index = None)\n",
    "df5.to_csv(\"Sheet5.csv\", sep = \",\", index = None)\n",
    "df6.to_csv(\"Sheet6.csv\", sep = \",\", index = None)\n",
    "df7.to_csv(\"Sheet7.csv\", sep = \",\", index = None)\n",
    "df8.to_csv(\"Sheet8.csv\", sep = \",\", index = None)\n",
    "df9.to_csv(\"Sheet9.csv\", sep = \",\", index = None)\n",
    "df10.to_csv(\"Sheet10.csv\", sep = \",\", index = None)"
   ]
  },
  {
   "cell_type": "code",
   "execution_count": null,
   "metadata": {},
   "outputs": [],
   "source": []
  }
 ],
 "metadata": {
  "kernelspec": {
   "display_name": "Python 3",
   "language": "python",
   "name": "python3"
  },
  "language_info": {
   "codemirror_mode": {
    "name": "ipython",
    "version": 3
   },
   "file_extension": ".py",
   "mimetype": "text/x-python",
   "name": "python",
   "nbconvert_exporter": "python",
   "pygments_lexer": "ipython3",
   "version": "3.7.1"
  }
 },
 "nbformat": 4,
 "nbformat_minor": 2
}
